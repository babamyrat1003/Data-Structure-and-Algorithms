{
 "cells": [
  {
   "cell_type": "code",
   "execution_count": null,
   "id": "68519e73",
   "metadata": {},
   "outputs": [],
   "source": [
    "n=int(input())\n",
    "\n",
    "arr=list(map(int,input().split()))[:n]\n",
    "\n",
    "arr.sort\n",
    "\n",
    "q=int(input())\n",
    "\n",
    "for i in range(0, q):\n",
    "    arr2=list(map(int,input().split()))[:2]\n",
    "    \n",
    "    if arr2[0]==0:\n",
    "        count = 0\n",
    "        for nn in arr:\n",
    "            if nn>=arr2[1]:\n",
    "                count+=1\n",
    "        print(count)\n",
    "\n",
    "    if arr2[0]==1:\n",
    "        count=0\n",
    "        for nn in arr:\n",
    "            if nn>arr2[1]:\n",
    "                count+=1\n",
    "        print(count)\n",
    "    "
   ]
  },
  {
   "cell_type": "code",
   "execution_count": null,
   "id": "6bc91171",
   "metadata": {},
   "outputs": [],
   "source": [
    "n = int (input())\n",
    "x = int (input())\n",
    "\n",
    "arr=list(map(int,input().split()))[:n]\n",
    "\n",
    "arr.sort"
   ]
  },
  {
   "cell_type": "code",
   "execution_count": null,
   "id": "300d48e2",
   "metadata": {},
   "outputs": [],
   "source": []
  }
 ],
 "metadata": {
  "kernelspec": {
   "display_name": "Python 3 (ipykernel)",
   "language": "python",
   "name": "python3"
  },
  "language_info": {
   "codemirror_mode": {
    "name": "ipython",
    "version": 3
   },
   "file_extension": ".py",
   "mimetype": "text/x-python",
   "name": "python",
   "nbconvert_exporter": "python",
   "pygments_lexer": "ipython3",
   "version": "3.10.0"
  }
 },
 "nbformat": 4,
 "nbformat_minor": 5
}
